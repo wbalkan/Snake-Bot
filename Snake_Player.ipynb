{
 "cells": [
  {
   "cell_type": "code",
   "execution_count": 1,
   "id": "ad8c0e94",
   "metadata": {},
   "outputs": [],
   "source": [
    "# imports\n",
    "from selenium import webdriver\n",
    "from selenium.webdriver.common.keys import Keys\n",
    "from selenium.webdriver.common.by import By\n",
    "from selenium.webdriver import ActionChains\n",
    "from selenium.webdriver.chrome.service import Service as ChromeService\n",
    "from webdriver_manager.chrome import ChromeDriverManager\n",
    "\n",
    "import pyautogui\n",
    "\n",
    "import time"
   ]
  },
  {
   "cell_type": "code",
   "execution_count": 2,
   "id": "aa5504c9",
   "metadata": {},
   "outputs": [
    {
     "name": "stderr",
     "output_type": "stream",
     "text": [
      "[WDM] - Downloading: 100%|██████████| 6.79M/6.79M [00:01<00:00, 3.81MB/s]\n"
     ]
    }
   ],
   "source": [
    "#start webdriver\n",
    "driver = webdriver.Chrome(service=ChromeService(ChromeDriverManager().install()))\n"
   ]
  },
  {
   "cell_type": "code",
   "execution_count": 3,
   "id": "281885f7",
   "metadata": {},
   "outputs": [],
   "source": [
    "driver.get(\"https://www.google.com\")\n",
    "\n",
    "search = driver.find_element(By.CLASS_NAME, 'gLFyf')\n",
    "search.send_keys('snake game')\n",
    "search.send_keys(Keys.RETURN)\n"
   ]
  },
  {
   "cell_type": "code",
   "execution_count": 4,
   "id": "8402a4f2",
   "metadata": {},
   "outputs": [],
   "source": [
    "play = driver.find_element(By.CLASS_NAME, \"XlTvtc\")\n",
    "\n",
    "play.click()\n",
    "driver.implicitly_wait(4)\n",
    "\n",
    "\n"
   ]
  },
  {
   "cell_type": "code",
   "execution_count": 5,
   "id": "2e1286c0",
   "metadata": {},
   "outputs": [],
   "source": [
    "### TODO: SET TURTLE MODE\n",
    "\n",
    "settings = driver.find_element(By.XPATH, \"//div[@jsname='iyH4Cb']\")\n",
    "settings.click()\n",
    "driver.implicitly_wait(3)\n",
    "\n",
    "turtle = driver.find_element(By.XPATH, \"//img[@src='//www.google.com/logos/fnbx/snake_arcade/v3/speed_02.png']\")\n",
    "actions = ActionChains(driver)\n",
    "actions.move_to_element(turtle).click().perform()\n",
    "\n",
    "driver.implicitly_wait(2)"
   ]
  },
  {
   "cell_type": "code",
   "execution_count": 6,
   "id": "f6ccbd28",
   "metadata": {},
   "outputs": [],
   "source": [
    "play_2 = driver.find_element(By.XPATH, \"//div[@jsname='NSjDf']\")\n",
    "play_2.click()\n"
   ]
  },
  {
   "cell_type": "code",
   "execution_count": 7,
   "id": "98f71c67",
   "metadata": {
    "scrolled": true
   },
   "outputs": [
    {
     "name": "stdout",
     "output_type": "stream",
     "text": [
      "c1 1112 298\n",
      "c2 1790 298\n",
      "c3 1112 895\n",
      "c4 1789 896\n",
      "39.88235294117647 39.8\n",
      "(80, 116, 234)\n"
     ]
    }
   ],
   "source": [
    "# DEFINE GAME WINDOW\n",
    "\n",
    "game = driver.find_element(By.XPATH, '//body')\n",
    "# driver.maximize_window()\n",
    "driver.implicitly_wait(3)\n",
    "\n",
    "#find corners of game window\n",
    "top_left_x, top_left_y, top_left_width, top_left_height = pyautogui.locateOnScreen('top-left.jpg', confidence = 0.98)\n",
    "top_right_x, top_right_y, top_right_width, top_right_height = pyautogui.locateOnScreen('top-right.jpg', confidence = 0.98)\n",
    "bottom_left_x, bottom_left_y, bottom_left_width, bottom_left_height = pyautogui.locateOnScreen('bottom-left.jpg', confidence = 0.98)\n",
    "bottom_right_x, bottom_right_y, bottom_right_width, bottom_right_height = pyautogui.locateOnScreen('bottom-right.jpg', confidence = 0.98)\n",
    "\n",
    "bottom_left_x += 6\n",
    "bottom_left_y += 19\n",
    "\n",
    "bottom_right_x += 19\n",
    "bottom_right_y += 20\n",
    "\n",
    "top_left_x += 7\n",
    "top_left_y += 6\n",
    "\n",
    "top_right_x += 20\n",
    "top_right_y += 7\n",
    "\n",
    "print('c1', top_left_x, top_left_y)\n",
    "print('c2', top_right_x, top_right_y)\n",
    "print('c3', bottom_left_x, bottom_left_y)\n",
    "print('c4', bottom_right_x, bottom_right_y)\n",
    "\n",
    "# all of these are roughly square: 26x27 or 27x26 pixel images\n",
    "# height = (bottom_right_y + bottom_left_y)//2 - (top_right_y + top_left_y)//2 - top_left_height #subtract this from both estimates\n",
    "# width = (bottom_right_x + top_right_x)//2 - (bottom_left_x + top_left_x)//2 - top_left_width  #because a little extra padding on images\n",
    "\n",
    "height = bottom_left_y - top_left_y\n",
    "width = top_right_x - top_left_x\n",
    "\n",
    "boxh = (height / 15)\n",
    "boxw = (width / 17)\n",
    "print(boxw, boxh)\n",
    "\n",
    "LEFT_BOX_X = int(top_left_x + boxw/2.25) #divided by 3 so that is closer to edge and extened mouth doesn't trigger movement\n",
    "TOP_BOX_Y = int(top_left_y + boxh/2.25)\n",
    "\n",
    "RIGHT_BOX_X = int(top_right_x - boxw/2.25)\n",
    "BOTTOM_BOX_Y = int(bottom_left_y - boxw/2.25)\n",
    "\n",
    "#measurements are imperfect, but good enough if we go from top/bottom for upper/lower rows\n",
    "### NEED TO REFACTOR, ONLY WORKS WITH CERTAIN WINDOW SIZES\n",
    "# THIS CAN MISS THE APPLE (not necessary for this program though)\n",
    "def box_pixel(box_x, box_y):\n",
    "    if box_x < 9:\n",
    "        x_pixel = LEFT_BOX_X + boxw*(box_x - 1)\n",
    "    else:\n",
    "        x_pixel = RIGHT_BOX_X - boxw*(17-box_x)\n",
    "    \n",
    "    if box_y < 9:\n",
    "        y_pixel = TOP_BOX_Y + boxh*(box_y - 1)\n",
    "    else:\n",
    "        y_pixel = BOTTOM_BOX_Y - boxh*(15-box_y)\n",
    "    return int(x_pixel), int(y_pixel)\n",
    "\n",
    "snake_x, snake_y = box_pixel(3, 8) #starting snake location\n",
    "SNAKE_RGB = pyautogui.pixel(snake_x, snake_y) #snake color for reference\n",
    "print(SNAKE_RGB)"
   ]
  },
  {
   "cell_type": "code",
   "execution_count": 8,
   "id": "16741b0f",
   "metadata": {},
   "outputs": [],
   "source": [
    "#waits for snake to reach a point and triggers 1-2 key movements\n",
    "def trigger(target_x, target_y, key1, key2='empty'):\n",
    "    pix_x, pix_y = box_pixel(target_x, target_y)\n",
    "    \n",
    "    tail_clear = True\n",
    "    if pyautogui.pixelMatchesColor(pix_x, pix_y, SNAKE_RGB, tolerance = 30):\n",
    "        tail_clear = False\n",
    "        \n",
    "    while tail_clear == False:\n",
    "        if not (pyautogui.pixelMatchesColor(pix_x, pix_y, SNAKE_RGB, tolerance=30)):\n",
    "            tail_clear = True\n",
    "            \n",
    "    fired = False\n",
    "    while fired == False:\n",
    "        if pyautogui.pixelMatchesColor(pix_x, pix_y, SNAKE_RGB, tolerance = 30):##need tolerance for changes in mouth when apple is close\n",
    "            game.send_keys(key1)\n",
    "            if key2 != 'empty':\n",
    "                game.send_keys(key2)\n",
    "            fired = True"
   ]
  },
  {
   "cell_type": "code",
   "execution_count": 9,
   "id": "b0632831",
   "metadata": {},
   "outputs": [
    {
     "ename": "KeyboardInterrupt",
     "evalue": "",
     "output_type": "error",
     "traceback": [
      "\u001b[1;31m---------------------------------------------------------------------------\u001b[0m",
      "\u001b[1;31mKeyboardInterrupt\u001b[0m                         Traceback (most recent call last)",
      "\u001b[1;32m~\\AppData\\Local\\Temp\\ipykernel_32448\\2776064300.py\u001b[0m in \u001b[0;36m<module>\u001b[1;34m\u001b[0m\n\u001b[0;32m     17\u001b[0m             \u001b[0mtrigger\u001b[0m\u001b[1;33m(\u001b[0m\u001b[1;36m16\u001b[0m\u001b[1;33m,\u001b[0m \u001b[0mrow\u001b[0m\u001b[1;33m+\u001b[0m\u001b[1;36m1\u001b[0m\u001b[1;33m,\u001b[0m \u001b[0mKeys\u001b[0m\u001b[1;33m.\u001b[0m\u001b[0mARROW_DOWN\u001b[0m\u001b[1;33m,\u001b[0m \u001b[0mKeys\u001b[0m\u001b[1;33m.\u001b[0m\u001b[0mARROW_LEFT\u001b[0m\u001b[1;33m)\u001b[0m\u001b[1;33m\u001b[0m\u001b[1;33m\u001b[0m\u001b[0m\n\u001b[0;32m     18\u001b[0m         \u001b[1;32melse\u001b[0m\u001b[1;33m:\u001b[0m\u001b[1;33m\u001b[0m\u001b[1;33m\u001b[0m\u001b[0m\n\u001b[1;32m---> 19\u001b[1;33m             \u001b[0mtrigger\u001b[0m\u001b[1;33m(\u001b[0m\u001b[1;36m2\u001b[0m\u001b[1;33m,\u001b[0m \u001b[0mrow\u001b[0m\u001b[1;33m+\u001b[0m\u001b[1;36m1\u001b[0m\u001b[1;33m,\u001b[0m \u001b[0mKeys\u001b[0m\u001b[1;33m.\u001b[0m\u001b[0mARROW_DOWN\u001b[0m\u001b[1;33m,\u001b[0m \u001b[0mKeys\u001b[0m\u001b[1;33m.\u001b[0m\u001b[0mARROW_RIGHT\u001b[0m\u001b[1;33m)\u001b[0m\u001b[1;33m\u001b[0m\u001b[1;33m\u001b[0m\u001b[0m\n\u001b[0m\u001b[0;32m     20\u001b[0m     \u001b[1;32mif\u001b[0m \u001b[0mruns\u001b[0m \u001b[1;33m%\u001b[0m \u001b[1;36m2\u001b[0m \u001b[1;33m==\u001b[0m \u001b[1;36m0\u001b[0m\u001b[1;33m:\u001b[0m\u001b[1;33m\u001b[0m\u001b[1;33m\u001b[0m\u001b[0m\n\u001b[0;32m     21\u001b[0m         \u001b[0mtrigger\u001b[0m\u001b[1;33m(\u001b[0m\u001b[1;36m17\u001b[0m\u001b[1;33m,\u001b[0m \u001b[1;36m15\u001b[0m\u001b[1;33m,\u001b[0m \u001b[0mKeys\u001b[0m\u001b[1;33m.\u001b[0m\u001b[0mARROW_UP\u001b[0m\u001b[1;33m)\u001b[0m\u001b[1;33m\u001b[0m\u001b[1;33m\u001b[0m\u001b[0m\n",
      "\u001b[1;32m~\\AppData\\Local\\Temp\\ipykernel_32448\\2890006311.py\u001b[0m in \u001b[0;36mtrigger\u001b[1;34m(target_x, target_y, key1, key2)\u001b[0m\n\u001b[0;32m     13\u001b[0m     \u001b[0mfired\u001b[0m \u001b[1;33m=\u001b[0m \u001b[1;32mFalse\u001b[0m\u001b[1;33m\u001b[0m\u001b[1;33m\u001b[0m\u001b[0m\n\u001b[0;32m     14\u001b[0m     \u001b[1;32mwhile\u001b[0m \u001b[0mfired\u001b[0m \u001b[1;33m==\u001b[0m \u001b[1;32mFalse\u001b[0m\u001b[1;33m:\u001b[0m\u001b[1;33m\u001b[0m\u001b[1;33m\u001b[0m\u001b[0m\n\u001b[1;32m---> 15\u001b[1;33m         \u001b[1;32mif\u001b[0m \u001b[0mpyautogui\u001b[0m\u001b[1;33m.\u001b[0m\u001b[0mpixelMatchesColor\u001b[0m\u001b[1;33m(\u001b[0m\u001b[0mpix_x\u001b[0m\u001b[1;33m,\u001b[0m \u001b[0mpix_y\u001b[0m\u001b[1;33m,\u001b[0m \u001b[0mSNAKE_RGB\u001b[0m\u001b[1;33m,\u001b[0m \u001b[0mtolerance\u001b[0m \u001b[1;33m=\u001b[0m \u001b[1;36m30\u001b[0m\u001b[1;33m)\u001b[0m\u001b[1;33m:\u001b[0m\u001b[1;31m##need tolerance for changes in mouth when apple is close\u001b[0m\u001b[1;33m\u001b[0m\u001b[1;33m\u001b[0m\u001b[0m\n\u001b[0m\u001b[0;32m     16\u001b[0m             \u001b[0mgame\u001b[0m\u001b[1;33m.\u001b[0m\u001b[0msend_keys\u001b[0m\u001b[1;33m(\u001b[0m\u001b[0mkey1\u001b[0m\u001b[1;33m)\u001b[0m\u001b[1;33m\u001b[0m\u001b[1;33m\u001b[0m\u001b[0m\n\u001b[0;32m     17\u001b[0m             \u001b[1;32mif\u001b[0m \u001b[0mkey2\u001b[0m \u001b[1;33m!=\u001b[0m \u001b[1;34m'empty'\u001b[0m\u001b[1;33m:\u001b[0m\u001b[1;33m\u001b[0m\u001b[1;33m\u001b[0m\u001b[0m\n",
      "\u001b[1;32m~\\anaconda3\\lib\\site-packages\\pyscreeze\\__init__.py\u001b[0m in \u001b[0;36mpixelMatchesColor\u001b[1;34m(x, y, expectedRGBColor, tolerance)\u001b[0m\n\u001b[0;32m    587\u001b[0m     \u001b[0mTODO\u001b[0m\u001b[1;33m\u001b[0m\u001b[1;33m\u001b[0m\u001b[0m\n\u001b[0;32m    588\u001b[0m     \"\"\"\n\u001b[1;32m--> 589\u001b[1;33m     \u001b[0mpix\u001b[0m \u001b[1;33m=\u001b[0m \u001b[0mpixel\u001b[0m\u001b[1;33m(\u001b[0m\u001b[0mx\u001b[0m\u001b[1;33m,\u001b[0m \u001b[0my\u001b[0m\u001b[1;33m)\u001b[0m\u001b[1;33m\u001b[0m\u001b[1;33m\u001b[0m\u001b[0m\n\u001b[0m\u001b[0;32m    590\u001b[0m     \u001b[1;32mif\u001b[0m \u001b[0mlen\u001b[0m\u001b[1;33m(\u001b[0m\u001b[0mpix\u001b[0m\u001b[1;33m)\u001b[0m \u001b[1;33m==\u001b[0m \u001b[1;36m3\u001b[0m \u001b[1;32mor\u001b[0m \u001b[0mlen\u001b[0m\u001b[1;33m(\u001b[0m\u001b[0mexpectedRGBColor\u001b[0m\u001b[1;33m)\u001b[0m \u001b[1;33m==\u001b[0m \u001b[1;36m3\u001b[0m\u001b[1;33m:\u001b[0m \u001b[1;31m#RGB mode\u001b[0m\u001b[1;33m\u001b[0m\u001b[1;33m\u001b[0m\u001b[0m\n\u001b[0;32m    591\u001b[0m         \u001b[0mr\u001b[0m\u001b[1;33m,\u001b[0m \u001b[0mg\u001b[0m\u001b[1;33m,\u001b[0m \u001b[0mb\u001b[0m \u001b[1;33m=\u001b[0m \u001b[0mpix\u001b[0m\u001b[1;33m[\u001b[0m\u001b[1;33m:\u001b[0m\u001b[1;36m3\u001b[0m\u001b[1;33m]\u001b[0m\u001b[1;33m\u001b[0m\u001b[1;33m\u001b[0m\u001b[0m\n",
      "\u001b[1;32m~\\anaconda3\\lib\\site-packages\\pyscreeze\\__init__.py\u001b[0m in \u001b[0;36mpixel\u001b[1;34m(x, y)\u001b[0m\n\u001b[0;32m    606\u001b[0m         \u001b[1;31m# On Windows, calling GetDC() and GetPixel() is twice as fast as using our screenshot() function.\u001b[0m\u001b[1;33m\u001b[0m\u001b[1;33m\u001b[0m\u001b[0m\n\u001b[0;32m    607\u001b[0m         \u001b[1;32mwith\u001b[0m \u001b[0m__win32_openDC\u001b[0m\u001b[1;33m(\u001b[0m\u001b[1;36m0\u001b[0m\u001b[1;33m)\u001b[0m \u001b[1;32mas\u001b[0m \u001b[0mhdc\u001b[0m\u001b[1;33m:\u001b[0m \u001b[1;31m# handle will be released automatically\u001b[0m\u001b[1;33m\u001b[0m\u001b[1;33m\u001b[0m\u001b[0m\n\u001b[1;32m--> 608\u001b[1;33m             \u001b[0mcolor\u001b[0m \u001b[1;33m=\u001b[0m \u001b[0mwindll\u001b[0m\u001b[1;33m.\u001b[0m\u001b[0mgdi32\u001b[0m\u001b[1;33m.\u001b[0m\u001b[0mGetPixel\u001b[0m\u001b[1;33m(\u001b[0m\u001b[0mhdc\u001b[0m\u001b[1;33m,\u001b[0m \u001b[0mx\u001b[0m\u001b[1;33m,\u001b[0m \u001b[0my\u001b[0m\u001b[1;33m)\u001b[0m\u001b[1;33m\u001b[0m\u001b[1;33m\u001b[0m\u001b[0m\n\u001b[0m\u001b[0;32m    609\u001b[0m             \u001b[1;32mif\u001b[0m \u001b[0mcolor\u001b[0m \u001b[1;33m<\u001b[0m \u001b[1;36m0\u001b[0m\u001b[1;33m:\u001b[0m\u001b[1;33m\u001b[0m\u001b[1;33m\u001b[0m\u001b[0m\n\u001b[0;32m    610\u001b[0m                 \u001b[1;32mraise\u001b[0m \u001b[0mWindowsError\u001b[0m\u001b[1;33m(\u001b[0m\u001b[1;34m\"windll.gdi32.GetPixel failed : return {}\"\u001b[0m\u001b[1;33m.\u001b[0m\u001b[0mformat\u001b[0m\u001b[1;33m(\u001b[0m\u001b[0mcolor\u001b[0m\u001b[1;33m)\u001b[0m\u001b[1;33m)\u001b[0m\u001b[1;33m\u001b[0m\u001b[1;33m\u001b[0m\u001b[0m\n",
      "\u001b[1;31mKeyboardInterrupt\u001b[0m: "
     ]
    }
   ],
   "source": [
    "#START SNAKE\n",
    "game.send_keys(Keys.ARROW_RIGHT)\n",
    "\n",
    "for row in range(7):\n",
    "    if row % 2 == 0:\n",
    "        trigger(17, 8 + row, Keys.ARROW_DOWN, Keys.ARROW_LEFT)\n",
    "    else:\n",
    "        trigger(2, 8 + row, Keys.ARROW_DOWN, Keys.ARROW_RIGHT)\n",
    "\n",
    "trigger(1, 15, Keys.ARROW_UP)\n",
    "trigger(1, 1, Keys.ARROW_RIGHT)\n",
    "\n",
    "runs = 0\n",
    "while True:\n",
    "    for row in range(14):\n",
    "        if (row + runs) % 2 == 0:\n",
    "            trigger(16, row+1, Keys.ARROW_DOWN, Keys.ARROW_LEFT)\n",
    "        else:\n",
    "            trigger(2, row+1, Keys.ARROW_DOWN, Keys.ARROW_RIGHT)\n",
    "    if runs % 2 == 0:\n",
    "        trigger(17, 15, Keys.ARROW_UP)\n",
    "        trigger(17, 1, Keys.ARROW_LEFT)\n",
    "    else:\n",
    "        trigger(1, 15, Keys.ARROW_UP)\n",
    "        trigger(1, 1, Keys.ARROW_RIGHT)\n",
    "    runs += 1\n",
    "\n",
    "    "
   ]
  },
  {
   "cell_type": "code",
   "execution_count": null,
   "id": "09eb55ea",
   "metadata": {},
   "outputs": [],
   "source": []
  },
  {
   "cell_type": "code",
   "execution_count": null,
   "id": "3b9605ee",
   "metadata": {},
   "outputs": [],
   "source": []
  },
  {
   "cell_type": "code",
   "execution_count": null,
   "id": "9236c25b",
   "metadata": {},
   "outputs": [],
   "source": []
  }
 ],
 "metadata": {
  "kernelspec": {
   "display_name": "Python 3 (ipykernel)",
   "language": "python",
   "name": "python3"
  },
  "language_info": {
   "codemirror_mode": {
    "name": "ipython",
    "version": 3
   },
   "file_extension": ".py",
   "mimetype": "text/x-python",
   "name": "python",
   "nbconvert_exporter": "python",
   "pygments_lexer": "ipython3",
   "version": "3.9.13"
  }
 },
 "nbformat": 4,
 "nbformat_minor": 5
}
